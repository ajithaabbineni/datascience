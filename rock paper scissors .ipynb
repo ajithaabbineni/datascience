{
 "cells": [
  {
   "cell_type": "raw",
   "metadata": {},
   "source": [
    "rock paper scissors game:"
   ]
  },
  {
   "cell_type": "code",
   "execution_count": 43,
   "metadata": {},
   "outputs": [
    {
     "data": {
      "text/plain": [
       "'paper'"
      ]
     },
     "execution_count": 43,
     "metadata": {},
     "output_type": "execute_result"
    }
   ],
   "source": [
    "import random\n",
    "options= [\"rock\", \"paper\", \"scissors\"]\n",
    "machine= random.choice(options)\n",
    "machine"
   ]
  },
  {
   "cell_type": "code",
   "execution_count": 44,
   "metadata": {},
   "outputs": [
    {
     "name": "stdout",
     "output_type": "stream",
     "text": [
      "user choice:rock\n"
     ]
    }
   ],
   "source": [
    "import sys\n",
    "user = input(\"user choice:\")"
   ]
  },
  {
   "cell_type": "code",
   "execution_count": 45,
   "metadata": {},
   "outputs": [
    {
     "name": "stdout",
     "output_type": "stream",
     "text": [
      "loose\n"
     ]
    }
   ],
   "source": [
    "if machine == user:\n",
    "    print(\"draw\")\n",
    "elif machine== \"rock\" and user== \"scissors\": \n",
    "    print(\"loose\")\n",
    "elif machine== \"paper\" and user== \"rock\":\n",
    "    print(\"loose\")\n",
    "elif machine== \"scissors\" and user== \"paper\":\n",
    "    print(\"loose\")\n",
    "else:\n",
    "    print(\"win\")"
   ]
  },
  {
   "cell_type": "markdown",
   "metadata": {},
   "source": [
    "# 2nd method using indexes"
   ]
  },
  {
   "cell_type": "code",
   "execution_count": 46,
   "metadata": {},
   "outputs": [],
   "source": [
    "import random\n",
    "def game():\n",
    "    mlist= [\"rock\", \"paper\", \"scissors\"]\n",
    "    ulist= [\"scissors\", \"rock\", \"paper\"]\n",
    "    machine= random.choice (range(0,3))\n",
    "    print(\"choose one:\")\n",
    "    print(\"0.scissors 1.rock 2.paper\")\n",
    "    import sys\n",
    "    user = int (input(\"user choice:\"))\n",
    "    if machine == user:  \n",
    "        print(\"loose\")\n",
    "    elif mlist[machine]== ulist[user]:\n",
    "        print(\"draw\")\n",
    "    else:\n",
    "        print(\"win\")"
   ]
  },
  {
   "cell_type": "code",
   "execution_count": 47,
   "metadata": {},
   "outputs": [
    {
     "name": "stdout",
     "output_type": "stream",
     "text": [
      "choose one:\n",
      "0.scissors 1.rock 2.paper\n",
      "user choice:2\n",
      "loose\n"
     ]
    }
   ],
   "source": [
    "game()"
   ]
  },
  {
   "cell_type": "code",
   "execution_count": null,
   "metadata": {},
   "outputs": [],
   "source": []
  }
 ],
 "metadata": {
  "kernelspec": {
   "display_name": "Python 3",
   "language": "python",
   "name": "python3"
  },
  "language_info": {
   "codemirror_mode": {
    "name": "ipython",
    "version": 3
   },
   "file_extension": ".py",
   "mimetype": "text/x-python",
   "name": "python",
   "nbconvert_exporter": "python",
   "pygments_lexer": "ipython3",
   "version": "3.6.4"
  }
 },
 "nbformat": 4,
 "nbformat_minor": 2
}
